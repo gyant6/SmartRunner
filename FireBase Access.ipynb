{
 "cells": [
  {
   "cell_type": "code",
   "execution_count": 1,
   "metadata": {},
   "outputs": [],
   "source": [
    "#from firebase import firebase\n",
    "\n",
    "import firebase_admin as fa \n",
    "from firebase_admin import credentials\n",
    "from firebase_admin import firestore\n",
    "from firebase_admin import storage\n",
    "\n",
    "from google.cloud import storage\n",
    "from google.auth import load_credentials_from_file\n",
    "\n",
    "import requests"
   ]
  },
  {
   "cell_type": "code",
   "execution_count": 2,
   "metadata": {},
   "outputs": [],
   "source": [
    "try:\n",
    "    load_credentials_from_file('cz3002-d3f3c-cd6f171beab4.json')\n",
    "except:\n",
    "    print('not loaded')"
   ]
  },
  {
   "cell_type": "code",
   "execution_count": 3,
   "metadata": {},
   "outputs": [],
   "source": [
    "cred = credentials.Certificate('cz3002-d3f3c-cd6f171beab4.json')\n",
    "fa.initialize_app(cred,\n",
    "                  {'storageBucket': 'cz3002-d3f3c.appspot.com'}\n",
    "                 )\n",
    "\n",
    "db = firestore.client()"
   ]
  },
  {
   "cell_type": "code",
   "execution_count": 4,
   "metadata": {},
   "outputs": [],
   "source": [
    "students = db.collection(u'Students')\n",
    "docs = students.stream()"
   ]
  },
  {
   "cell_type": "code",
   "execution_count": 5,
   "metadata": {},
   "outputs": [
    {
     "name": "stdout",
     "output_type": "stream",
     "text": [
      "U1720465K => {'Image': 'U1720465K.jpeg', 'Name': 'Chio Ting Kiat', 'Matric': 'U1720465K'}\n",
      "U1722016G => {'Image': 'U1722016G.jpeg', 'Name': 'Jordan Tan', 'Matric': 'U1722016G'}\n",
      "U1823630E => {'Image': 'U1823630E.jpeg', 'Matric': 'U1823630E', 'Name': 'Mohit Prashant'}\n",
      "U1920679B => {'Image': 'U1920679B.jpeg', 'Matric': 'U1920679B', 'Name': 'Ong Liwen'}\n",
      "U1921848G => {'Image': 'U1921848G.jpeg', 'Name': 'Seah Yu Liang', 'Matric': 'U1921848G'}\n",
      "U1922030E => {'Matric': 'U1922030E', 'Name': 'Loh Xin Yi', 'Image': 'U1922030E.jpeg'}\n",
      "UXXXXXXXG => {'Name': 'Imposter', 'Matric': 'UXXXXXXXG', 'Image': 'Imposter.jpeg'}\n"
     ]
    }
   ],
   "source": [
    "for doc in docs:\n",
    "    print(f'{doc.id} => {doc.to_dict()}')"
   ]
  },
  {
   "cell_type": "code",
   "execution_count": 16,
   "metadata": {},
   "outputs": [],
   "source": [
    "def getCourses():\n",
    "    classes=db.collection(u'Classes')\n",
    "    docs=classes.stream()\n",
    "    \n",
    "    courses=[]\n",
    "    \n",
    "    for doc in docs:\n",
    "#         print(f'{doc.id} => {doc.to_dict()}')\n",
    "        courses.append(doc.to_dict()['Course'])\n",
    "        \n",
    "    print(courses)"
   ]
  },
  {
   "cell_type": "code",
   "execution_count": 24,
   "metadata": {},
   "outputs": [],
   "source": [
    "def getClasses(course):\n",
    "    classes=db.collection(u'Classes')\n",
    "    docs=classes.stream()\n",
    "    \n",
    "    items=[]\n",
    "    \n",
    "    for doc in docs:\n",
    "        d=doc.to_dict()\n",
    "        items.append([d['Course'], d['Class']])\n",
    "    \n",
    "    toReturn=[]\n",
    "    \n",
    "    for x in items:\n",
    "        if(course in x):\n",
    "            toReturn.append(x[1])\n",
    "    \n",
    "    return toReturn"
   ]
  },
  {
   "cell_type": "code",
   "execution_count": 26,
   "metadata": {},
   "outputs": [],
   "source": [
    "def getFromLocation(location):\n",
    "    classes=db.collection(u'Classes')\n",
    "    docs=classes.stream()\n",
    "    \n",
    "    items=[]\n",
    "    \n",
    "    for doc in docs:\n",
    "        d=doc.to_dict()\n",
    "        items.append([d['Location'], d['Class'], d['Course']])\n",
    "    \n",
    "    toReturn=[]\n",
    "    \n",
    "    for x in items:\n",
    "        if(location in x):\n",
    "            toReturn.append([x[1], x[2]])\n",
    "    \n",
    "    return toReturn"
   ]
  },
  {
   "cell_type": "code",
   "execution_count": 28,
   "metadata": {},
   "outputs": [],
   "source": [
    "def getLocation(course, clas):\n",
    "    classes=db.collection(u'Classes')\n",
    "    docs=classes.stream()\n",
    "    \n",
    "    items=[]\n",
    "    \n",
    "    for doc in docs:\n",
    "        d=doc.to_dict()\n",
    "        items.append([d['Location'], d['Class'], d['Course']])\n",
    "        \n",
    "    toReturn=[]\n",
    "    \n",
    "    for x in items:\n",
    "        if(course in x and clas in x):\n",
    "            toReturn.append(x[0])"
   ]
  },
  {
   "cell_type": "code",
   "execution_count": 29,
   "metadata": {},
   "outputs": [],
   "source": [
    "def getStudents(course, clas):\n",
    "    classes=db.collection(u'Classes')\n",
    "    docs=classes.stream()\n",
    "    \n",
    "    items=[]\n",
    "    \n",
    "    for doc in docs:\n",
    "        d=doc.to_dict()\n",
    "        if(d['Course']==course and d['Class']==clas):\n",
    "            items=d['Students']\n",
    "            \n",
    "    return items"
   ]
  },
  {
   "cell_type": "code",
   "execution_count": 12,
   "metadata": {},
   "outputs": [],
   "source": [
    "def updateAttendance(matric, clas, course):\n",
    "    pass\n",
    "        \n",
    "    "
   ]
  },
  {
   "cell_type": "code",
   "execution_count": 46,
   "metadata": {},
   "outputs": [],
   "source": [
    "def downloadImage(gsURL):\n",
    "    url='https://firebasestorage.googleapis.com/v0/b/cz3002-d3f3c.appspot.com/o/'+gsURL+'?alt=media&token=ef0004fd-ef17-463d-b737-292706d2ea9e'\n",
    "    r = requests.get(url, allow_redirects=True)\n",
    "\n",
    "    open(gsURL, 'wb').write(r.content)"
   ]
  },
  {
   "cell_type": "code",
   "execution_count": 47,
   "metadata": {},
   "outputs": [],
   "source": [
    "downloadImage('Imposter.JPEG')"
   ]
  },
  {
   "cell_type": "code",
   "execution_count": null,
   "metadata": {},
   "outputs": [],
   "source": []
  }
 ],
 "metadata": {
  "kernelspec": {
   "display_name": "Python 3",
   "language": "python",
   "name": "python3"
  },
  "language_info": {
   "codemirror_mode": {
    "name": "ipython",
    "version": 3
   },
   "file_extension": ".py",
   "mimetype": "text/x-python",
   "name": "python",
   "nbconvert_exporter": "python",
   "pygments_lexer": "ipython3",
   "version": "3.8.5"
  }
 },
 "nbformat": 4,
 "nbformat_minor": 4
}
